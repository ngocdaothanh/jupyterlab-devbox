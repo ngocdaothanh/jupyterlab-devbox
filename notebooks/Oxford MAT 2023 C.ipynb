{
 "cells": [
  {
   "cell_type": "code",
   "execution_count": 21,
   "id": "99185103-3da6-496a-b582-a11337ff22d6",
   "metadata": {},
   "outputs": [],
   "source": [
    "from sympy import *"
   ]
  },
  {
   "cell_type": "code",
   "execution_count": 22,
   "id": "e722dca0-0690-4af4-a90b-8cff06b92689",
   "metadata": {},
   "outputs": [],
   "source": [
    "a, b = symbols('a b')"
   ]
  },
  {
   "cell_type": "code",
   "execution_count": 23,
   "id": "6dec2658-7789-4726-b67b-1b483967aa7c",
   "metadata": {},
   "outputs": [],
   "source": [
    "length = a * sqrt(2) + a + b + b * sqrt(2)"
   ]
  },
  {
   "cell_type": "code",
   "execution_count": 24,
   "id": "eecc6700-6d19-446e-a791-a88154f280dd",
   "metadata": {},
   "outputs": [
    {
     "data": {
      "text/latex": [
       "$\\displaystyle a + \\sqrt{2} a + b + \\sqrt{2} b$"
      ],
      "text/plain": [
       "a + sqrt(2)*a + b + sqrt(2)*b"
      ]
     },
     "execution_count": 24,
     "metadata": {},
     "output_type": "execute_result"
    }
   ],
   "source": [
    "length"
   ]
  },
  {
   "cell_type": "code",
   "execution_count": 25,
   "id": "50509b84-3f2c-4996-82a8-ccee00cb9e50",
   "metadata": {},
   "outputs": [],
   "source": [
    "equation = Eq(e, sqrt(2))"
   ]
  },
  {
   "cell_type": "code",
   "execution_count": 31,
   "id": "01b4f010-637a-4250-8f10-91f02ea3e02d",
   "metadata": {},
   "outputs": [
    {
     "data": {
      "text/latex": [
       "$\\displaystyle a + b = \\frac{\\sqrt{2}}{1 + \\sqrt{2}}$"
      ],
      "text/plain": [
       "Eq(a + b, sqrt(2)/(1 + sqrt(2)))"
      ]
     },
     "execution_count": 31,
     "metadata": {},
     "output_type": "execute_result"
    }
   ],
   "source": [
    "simplify(equation)"
   ]
  },
  {
   "cell_type": "code",
   "execution_count": 27,
   "id": "cb1cb2d0-fd55-4bc7-81b3-5cdd1d767634",
   "metadata": {},
   "outputs": [
    {
     "name": "stdout",
     "output_type": "stream",
     "text": [
      "Eq(a + b, sqrt(2)/(1 + sqrt(2)))\n"
     ]
    }
   ],
   "source": [
    "print(simplify(eq))"
   ]
  },
  {
   "cell_type": "code",
   "execution_count": 30,
   "id": "342cf214-24b6-4121-aec3-0c0c61392b98",
   "metadata": {},
   "outputs": [
    {
     "data": {
      "text/latex": [
       "$\\displaystyle 2 - \\sqrt{2}$"
      ],
      "text/plain": [
       "2 - sqrt(2)"
      ]
     },
     "execution_count": 30,
     "metadata": {},
     "output_type": "execute_result"
    }
   ],
   "source": [
    "simplify(sqrt(2)/(1 + sqrt(2)))"
   ]
  }
 ],
 "metadata": {
  "kernelspec": {
   "display_name": "Python 3 (ipykernel)",
   "language": "python",
   "name": "python3"
  },
  "language_info": {
   "codemirror_mode": {
    "name": "ipython",
    "version": 3
   },
   "file_extension": ".py",
   "mimetype": "text/x-python",
   "name": "python",
   "nbconvert_exporter": "python",
   "pygments_lexer": "ipython3",
   "version": "3.13.3"
  }
 },
 "nbformat": 4,
 "nbformat_minor": 5
}
